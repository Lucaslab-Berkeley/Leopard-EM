{
 "cells": [
  {
   "cell_type": "markdown",
   "id": "ae37b7b9",
   "metadata": {},
   "source": [
    "# Constrained Search tutorial\n",
    "\n",
    "This is a complete tutorial going through the process of locating the 40S small ribosomal subunit using the constrained orientation search from identified 60S large ribosomal subunits.\n",
    "We step through the process generating the reference template maps, running the template matching program, optimizing the template, and finally running the constrained orientation search.\n",
    "Input data for this tutorial as well as the intermediary result files can be found at [this Zenodo dataset 10.5281/zenodo.15368246](https://zenodo.org/records/15368246).\n",
    "We will be using the micrograph with filename `xenon_131_000_0.0_DWS.mrc`, but this process can be done for a whole cohort of images.\n",
    "\n",
    "### Tutorial Requirements\n",
    "\n",
    "In terms of Python libraries, the following are required\n",
    "\n",
    "* Leopard-EM v1.0 or above\n",
    "* matplotlib\n",
    "* TODO"
   ]
  },
  {
   "cell_type": "code",
   "execution_count": null,
   "id": "47483415",
   "metadata": {},
   "outputs": [],
   "source": [
    "# Run this code cell to install required packages\n",
    "# !pip install leopard-em matplotlib\n",
    "# TODO: test this and verify which packages are needed"
   ]
  },
  {
   "cell_type": "code",
   "execution_count": null,
   "id": "444cf360",
   "metadata": {},
   "outputs": [],
   "source": [
    "import matplotlib.pyplot as plt\n",
    "import mmdf\n",
    "import mrcfile\n",
    "import numpy as np\n",
    "\n",
    "from leopard_em.pydantic_models.managers import MatchTemplateManager"
   ]
  },
  {
   "cell_type": "markdown",
   "id": "f41b2192",
   "metadata": {},
   "source": [
    "## 1. Download and pre-process required data\n",
    "\n",
    "The following cells will go through, download and pre-process all the necessary data to process in this tutorial.\n",
    "This will also create a directory structure to save the micrographs, models, maps, and configuration files.\n",
    "\n",
    "We also include a few visualizations to see what data we are working with."
   ]
  },
  {
   "cell_type": "code",
   "execution_count": null,
   "id": "8c70b56a",
   "metadata": {},
   "outputs": [],
   "source": [
    "import os\n",
    "\n",
    "import requests\n",
    "\n",
    "\n",
    "def download_zenodo_file(url: str, out_dir: str) -> str:\n",
    "    \"\"\"Helper function to download a file hosted on Zenodo from a URL to given dir.\"\"\"\n",
    "    output_filename = url.split(\"/\")[-1]\n",
    "\n",
    "    response = requests.get(url, stream=True)\n",
    "    response.raise_for_status()  # Check for request errors\n",
    "\n",
    "    with open(f\"{out_dir}/{output_filename}\", \"wb\") as f:\n",
    "        for chunk in response.iter_content(chunk_size=8192):\n",
    "            f.write(chunk)\n",
    "\n",
    "    return output_filename\n",
    "\n",
    "\n",
    "file_downloads = [\n",
    "    (\"mgraphs\", \"https://zenodo.org/records/15368246/files/xenon_131_000_0.0_DWS.mrc\"),\n",
    "    (\"models\", \"https://zenodo.org/records/15368246/files/60S_aligned.pdb\"),\n",
    "    (\"models\", \"https://zenodo.org/records/15368246/files/6q8y_aligned.pdb\"),\n",
    "    (\n",
    "        \"models\",\n",
    "        \"https://zenodo.org/records/15368246/files/6q8y_SSU_no_head_aligned.pdb\",\n",
    "    ),\n",
    "    (\n",
    "        \"configs\",\n",
    "        \"https://zenodo.org/records/15368246/files/match_template_config_crop.yaml\",\n",
    "    ),\n",
    "]\n",
    "\n",
    "# Loop through files list and download each\n",
    "for out_dir, file_url in file_downloads:\n",
    "    # Create the directory if it doesn't exist\n",
    "    os.makedirs(out_dir, exist_ok=True)\n",
    "\n",
    "    # Skip if the file already exists\n",
    "    fname = file_url.split(\"/\")[-1]\n",
    "    if os.path.exists(f\"{out_dir}/{fname}\"):\n",
    "        print(f\"File {fname} already exists in {out_dir}. Skipping download.\")\n",
    "        continue\n",
    "\n",
    "    # Download the file\n",
    "    filename = download_zenodo_file(file_url, out_dir)\n",
    "    print(f\"Downloaded {filename} to {out_dir}\")"
   ]
  },
  {
   "cell_type": "markdown",
   "id": "c0d8615d",
   "metadata": {},
   "source": [
    "### Plot of the micrograph\n",
    "\n",
    "Here, we use the `mrcfile` package to read a .mrc file into a numpy array.\n",
    "Then, we visualize the micrograph with `matplotlib`."
   ]
  },
  {
   "cell_type": "code",
   "execution_count": null,
   "id": "535b70a9",
   "metadata": {},
   "outputs": [],
   "source": [
    "# Read image into numpy array called 'data'\n",
    "data = mrcfile.open(\"mgraphs/xenon_131_000_0.0_DWS.mrc\", mode=\"r\").data.copy()\n",
    "\n",
    "# Plot the greyscale image\n",
    "plt.figure(figsize=(10, 10))\n",
    "plt.imshow(data, cmap=\"gray\")\n",
    "plt.axis(\"off\")\n",
    "plt.show()"
   ]
  },
  {
   "cell_type": "markdown",
   "id": "c6f477de",
   "metadata": {},
   "source": [
    "### Pre-process PDB files\n",
    "\n",
    "We've downloaded a PDB model of the 80S ribosome in the non-rotated state `6q8y_aligned.pdb`.\n",
    "In addition to this, we have two additional PDB files which correspond to the 40S (`6q8y_SSU_no_head_aligned.pdb`) and 60S (`60S_aligned.pdb`) ribosomal subunits; these were generated externally using the ChimeraX program from the full non-rotated ribosome model.\n",
    "For the 40S subunit, the head domain has also been removed to leave only the body.\n",
    "Both the 40S and 60S models have been pre-aligned with respect to the 80S model suing the matchmaker function in ChimeraX so the relative positions and orientations of the models match with each other.\n",
    "\n",
    "#### Center PDB models\n",
    "\n",
    "The 80S PDB file is shifted such that the average atomic position is located at $(0, 0, 0)$.\n",
    "This same shift is applied to the 40S and 60S models so they remain aligned throughout, and all transformed PDB files are written back to disk with an `_aligned_zero` suffix."
   ]
  },
  {
   "cell_type": "code",
   "execution_count": null,
   "id": "16f444f0",
   "metadata": {},
   "outputs": [],
   "source": [
    "def center_pdb_files(pdb_ref: str, pdb_A: str, pdb_B: str) -> None:\n",
    "    \"\"\"Transform reference PDB file to average atomic position of (0, 0, 0).\n",
    "\n",
    "    The same transformation is applied to the other PDB files, A and B, and all files\n",
    "    are saved with a new '_aligned_zero' suffix.\n",
    "\n",
    "    Parameters\n",
    "    ----------\n",
    "    pdb_ref : str\n",
    "        Path to reference PDB file to center.\n",
    "    pdb_A : str\n",
    "        Additional PDB file to also transform based on reference centering.\n",
    "    pdb_B : str\n",
    "        Additional PDB file to also transform based on reference centering.\n",
    "    \"\"\"\n",
    "    # Load PDB models into DataFrame objects\n",
    "    df_ref = mmdf.read(pdb_ref)\n",
    "    df_A = mmdf.read(pdb_A)\n",
    "    df_B = mmdf.read(pdb_B)\n",
    "\n",
    "    # Extract atom coordinates from reference PDB. Shape of (n_atoms, 3)\n",
    "    coords = df_ref[[\"x\", \"y\", \"z\"]].values\n",
    "    center = np.mean(coords, axis=0)\n",
    "\n",
    "    print(f\"Center of reference PDB: {center}\")\n",
    "\n",
    "    # Now apply the centering transformation to PDB files\n",
    "    shift_vector = -center\n",
    "    df_ref[[\"x\", \"y\", \"z\"]] += shift_vector\n",
    "    df_A[[\"x\", \"y\", \"z\"]] += shift_vector\n",
    "    df_B[[\"x\", \"y\", \"z\"]] += shift_vector\n",
    "\n",
    "    # Save the transformed PDB files with a new name\n",
    "    mmdf.write(pdb_ref.replace(\".pdb\", \"_aligned_zero.pdb\"), df_ref)\n",
    "    mmdf.write(pdb_A.replace(\".pdb\", \"_aligned_zero.pdb\"), df_A)\n",
    "    mmdf.write(pdb_B.replace(\".pdb\", \"_aligned_zero.pdb\"), df_B)\n",
    "\n",
    "\n",
    "# Center the PDB files\n",
    "center_pdb_files(\n",
    "    pdb_ref=\"models/60S_aligned.pdb\",\n",
    "    pdb_A=\"models/6q8y_aligned.pdb\",\n",
    "    pdb_B=\"models/6q8y_SSU_no_head_aligned.pdb\",\n",
    ")"
   ]
  },
  {
   "cell_type": "markdown",
   "id": "ca751fc2",
   "metadata": {},
   "source": [
    "## 2. Initial match template with 60S model\n",
    "\n",
    "Since we want to constrain the search space for a 40S small subunit (SSU) using the 60S large subunit (LSU), we first need to run full-orientation match template on the LSU model.\n",
    "We will go through the steps of configuring and running the match template program in Python.\n",
    "Further details about the match template program in Leopard-EM are located [here on the documentation](TODO-link)."
   ]
  },
  {
   "cell_type": "markdown",
   "id": "5023f391",
   "metadata": {},
   "source": [
    "### Generating 3D maps from models\n",
    "\n",
    "The template matching program requires simulated 3D maps to generate projections form, and below we use the [ttsim3d](https://github.com/teamtomo/ttsim3d) Python package to generate these maps.\n",
    "For a different dataset/structure, these simulation configurations need to be changed."
   ]
  },
  {
   "cell_type": "code",
   "execution_count": null,
   "id": "4054cc79",
   "metadata": {},
   "outputs": [],
   "source": [
    "# Making a directory to save 3D map files\n",
    "os.makedirs(\"maps\", exist_ok=True)"
   ]
  },
  {
   "cell_type": "code",
   "execution_count": null,
   "id": "79cace0b",
   "metadata": {},
   "outputs": [],
   "source": [
    "from ttsim3d.models import Simulator, SimulatorConfig\n",
    "\n",
    "# Instantiate the configuration object\n",
    "sim_conf = SimulatorConfig(\n",
    "    voltage=300.0,  # in keV\n",
    "    apply_dose_weighting=True,\n",
    "    dose_start=0.0,  # in e-/A^2\n",
    "    dose_end=50.0,  # in e-/A^2\n",
    "    dose_filter_modify_signal=\"rel_diff\",\n",
    "    upsampling=-1,  # auto\n",
    "    mtf_reference=\"falcon4EC_300kv\",\n",
    ")\n",
    "\n",
    "# Instantiate the simulator\n",
    "sim = Simulator(\n",
    "    pdb_filepath=\"models/60S_aligned_aligned_zero.pdb\",\n",
    "    pixel_spacing=0.95,  # Angstroms\n",
    "    volume_shape=(512, 512, 512),\n",
    "    center_atoms=False,\n",
    "    remove_hydrogens=True,\n",
    "    b_factor_scaling=0.5,  # Multiply model b-factors by 1/2\n",
    "    additional_b_factor=0,\n",
    "    simulator_config=sim_conf,\n",
    ")\n",
    "\n",
    "# Run the simulation and write the output to a file\n",
    "# We will read this file into memory later\n",
    "mrc_filepath = \"maps/60S_map_px0.95_bscale0.5.mrc\"\n",
    "sim.export_to_mrc(mrc_filepath)"
   ]
  },
  {
   "cell_type": "markdown",
   "id": "2dba30c6",
   "metadata": {},
   "source": [
    "### Initial test template matching run\n",
    "\n",
    "Below, we run the match template program on a small image patch which will give us a few peaks and optimize our template simulation before proceeding.\n",
    "First, we crop our a central 1k by 1k patch from our 4k by 4k image and save it as a new mrc file."
   ]
  },
  {
   "cell_type": "code",
   "execution_count": null,
   "id": "d2bd4acd",
   "metadata": {},
   "outputs": [],
   "source": [
    "data = mrcfile.open(\"mgraphs/xenon_131_000_0.0_DWS.mrc\", mode=\"r\").data.copy()\n",
    "\n",
    "# Crop out a central (1024, 1024) region of the image\n",
    "data_cropped = data[\n",
    "    data.shape[0] // 2 - 512 : data.shape[0] // 2 + 512,\n",
    "    data.shape[1] // 2 - 512 : data.shape[1] // 2 + 512,\n",
    "]\n",
    "\n",
    "# Save the cropped image to a new MRC file\n",
    "# NOTE: This is not updating any of the header information\n",
    "output_filename = \"mgraphs/xenon_131_000_0.0_DWS_cropped_4.mrc\"\n",
    "with mrcfile.new(output_filename, overwrite=True) as mrc:\n",
    "    mrc.set_data(data_cropped)"
   ]
  },
  {
   "cell_type": "markdown",
   "id": "5f3119dd",
   "metadata": {},
   "source": [
    "Below, we setup and run a full-orientation match template run based on the downloaded [configuration file](./config/match_template_config_crop.yaml).\n",
    "The programs section of the Leopard-EM documentation contains detailed explanations for each of these fields, so we will continue by running match template.\n",
    "\n",
    "**Note: This config assumes you have 4 GPUs on your system! You may need to change the `gpu_ids` field depending on your system!**"
   ]
  },
  {
   "cell_type": "code",
   "execution_count": null,
   "id": "d52ede51",
   "metadata": {},
   "outputs": [],
   "source": [
    "# Make directory to save program results\n",
    "os.makedirs(\"results\", exist_ok=True)"
   ]
  },
  {
   "cell_type": "code",
   "execution_count": null,
   "id": "d91d9370",
   "metadata": {},
   "outputs": [],
   "source": [
    "YAML_CONFIG_PATH = \"configs/match_template_config_crop.yaml\"\n",
    "ORIENTATION_BATCH_SIZE = 8  # Adjust depending on GPU memory\n",
    "\n",
    "mt_manager = MatchTemplateManager.from_yaml(YAML_CONFIG_PATH)\n",
    "mt_manager.run_match_template(ORIENTATION_BATCH_SIZE)\n",
    "df = mt_manager.results_to_dataframe(locate_peaks_kwargs={\"false_positives\": 1.0})\n",
    "df.to_csv(\"results/results_match_template_crop.csv\")"
   ]
  },
  {
   "cell_type": "code",
   "execution_count": null,
   "id": "b6125d35",
   "metadata": {},
   "outputs": [],
   "source": []
  }
 ],
 "metadata": {
  "kernelspec": {
   "display_name": "leo-em-dev",
   "language": "python",
   "name": "python3"
  },
  "language_info": {
   "codemirror_mode": {
    "name": "ipython",
    "version": 3
   },
   "file_extension": ".py",
   "mimetype": "text/x-python",
   "name": "python",
   "nbconvert_exporter": "python",
   "pygments_lexer": "ipython3",
   "version": "3.12.9"
  }
 },
 "nbformat": 4,
 "nbformat_minor": 5
}
