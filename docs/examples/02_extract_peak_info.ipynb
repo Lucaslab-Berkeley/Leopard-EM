{
 "cells": [
  {
   "cell_type": "markdown",
   "metadata": {},
   "source": [
    "# Extracting results from the template matching search\n",
    "\n",
    "After running through a template matching process, we have a set of location, correlation, and orientation statistics that need parsed. For example, peaks need to be picked from the z-score map, and the corresponding best orientations and defoci at those locations need to be read.\n",
    "\n",
    "While the necessary information *can* be grabbed from a configuration file, having a tabular data format is more flexible to work with."
   ]
  },
  {
   "cell_type": "code",
   "execution_count": null,
   "metadata": {},
   "outputs": [],
   "source": [
    "\"\"\"Extracting results to DataFrame.\"\"\"\n",
    "\n",
    "from leopard_em.pydantic_models.managers import MatchTemplateManager"
   ]
  },
  {
   "cell_type": "markdown",
   "metadata": {},
   "source": [
    "### Importing a configuration\n",
    "\n",
    "Here, we use an example configuration file to demonstrate how to extract the relevant information.\n",
    "If you've already run template matching, then this information should already be present in the `MatchTemplateManager` instance."
   ]
  },
  {
   "cell_type": "code",
   "execution_count": null,
   "metadata": {},
   "outputs": [],
   "source": [
    "yaml_path = \"/some/path/to/your/yaml_file.yaml\"\n",
    "mt_manager = MatchTemplateManager.from_yaml(yaml_path)\n",
    "mt_result = mt_manager.match_template_result\n",
    "mt_result.load_tensors_from_paths()  # Needed to load results into memory\n",
    "\n",
    "\n",
    "# Manually set the number of correlations. Automatically calculated after a run\n",
    "total_corr = int(13 * 1.59e6)\n",
    "mt_result.total_projections = total_corr"
   ]
  },
  {
   "cell_type": "markdown",
   "metadata": {},
   "source": [
    "## Extracting minimal peak information\n",
    "\n",
    "Minimal information at the peaks (location, orientation, peak height) can be extracted from the `MatchTemplateResult` instance as either a `dict` or `pandas.DataFrame`. Here, we show how to extract the information as a `pandas.DataFrame`."
   ]
  },
  {
   "cell_type": "code",
   "execution_count": null,
   "metadata": {},
   "outputs": [],
   "source": [
    "mt_result.locate_peaks()\n",
    "df_peaks = mt_result.peaks_to_dataframe()\n",
    "df_peaks"
   ]
  },
  {
   "cell_type": "markdown",
   "metadata": {},
   "source": [
    "## Converting full result information to a DataFrame\n",
    "\n",
    "The `MatchTemplateManager` class also has a method -- `results_to_dataframe` -- which populates a `pandas.DataFrame` with all necessary information for (most) downstream processing."
   ]
  },
  {
   "cell_type": "code",
   "execution_count": null,
   "metadata": {},
   "outputs": [],
   "source": [
    "df_full = mt_manager.results_to_dataframe()\n",
    "df_full"
   ]
  }
 ],
 "metadata": {
  "jupytext": {
   "formats": "ipynb,py:percent"
  },
  "kernelspec": {
   "display_name": "2dtm-dev",
   "language": "python",
   "name": "python3"
  },
  "language_info": {
   "codemirror_mode": {
    "name": "ipython",
    "version": 3
   },
   "file_extension": ".py",
   "mimetype": "text/x-python",
   "name": "python",
   "nbconvert_exporter": "python",
   "pygments_lexer": "ipython3",
   "version": "3.12.8"
  }
 },
 "nbformat": 4,
 "nbformat_minor": 2
}
