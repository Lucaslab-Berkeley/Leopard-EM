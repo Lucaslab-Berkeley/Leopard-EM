{
 "cells": [
  {
   "cell_type": "markdown",
   "metadata": {},
   "source": [
    "# Template Matching Configurations\n",
    "\n",
    "This example notebook outlines the steps necessary to generate, save, and load configurations for the `match-template` program through Python object and `yaml` files.\n",
    "Here, we focus on *how* to create and modify these configurations rather than the underlying code for parsing these configurations and running the program.\n",
    "\n",
    "### Rationale for using YAML configurations\n",
    "\n",
    "While the `Py2DTM` package provides a basic CLI program and an object-oriented Python API for extending template matching into more complex workflows, it is useful to have a human-readable, easily editable, and shareable configuration file because:\n",
    "1. It increases reproducibility by keeping a record of exact parameters used for a particular run,\n",
    "2. It can be quickly modified during development, debugging, and testing without changing underlying code, and\n",
    "3. It can be replicated across large datasets (e.g. multiple images with similar configurations) for execution on distributed clusters.\n",
    "\n",
    "We find that storing configurations in a structured file format strikes a good balance between user-friendliness and programmatic control."
   ]
  },
  {
   "cell_type": "markdown",
   "metadata": {},
   "source": [
    "## Importing Necessary Classes and Functions\n",
    "\n",
    "We utilize [Pydantic](https://docs.pydantic.dev/latest/) to create Python objects that parse, validate, and serialize configurations.\n",
    "These objects (called Pydantic models) are laid out in a hierarchial structure with a single root \"manager\" model.\n",
    "Below we import all the configuration classes (along with other libraries) we will detail usage of in this notebook."
   ]
  },
  {
   "cell_type": "code",
   "execution_count": 1,
   "metadata": {},
   "outputs": [],
   "source": [
    "from pprint import pprint\n",
    "\n",
    "from tt2dtm.pydantic_models import (\n",
    "    OpticsGroup,\n",
    ")"
   ]
  },
  {
   "cell_type": "markdown",
   "metadata": {},
   "source": [
    "## The **OpticsGroup** Model\n",
    "\n",
    "The `OpticsGroup` model is a container for microscope imaging parameters necessary for calculating filters (e.g. contrast transfer functions).\n",
    "We follow the fields that are defined in [RELION's](https://relion.readthedocs.io/en/latest/) optics group .star file, and the class has the following attributes:\n",
    "- `label`: A unique label for the optics group, usually contains some form of the micrograph name but can be any string.\n",
    "- `pixel_size`: Float value representing the pixel size of the image, in Angstroms.\n",
    "- `voltage`: The voltage of the microscope, in kV.\n",
    "- `spherical_aberration`: The spherical aberration of the microscope, in mm, with the default value of 2.7 mm.\n",
    "- `amplitude_contrast_ratio`: The amplitude contrast ratio (unitless) with the default value of 0.07.\n",
    "- `phase_shift`: Additional phase shift to apply across the CTF, in degrees, with the default value of 0.0.\n",
    "- `defocus_u`: Defocus of the micrograph along the major axis, in Angstroms.\n",
    "- `defocus_v`: Defocus of the micrograph along the minor axis, in Angstroms.\n",
    "- `defocus_astigmatism_angle`: Angle of the defocus astigmatism (relative to the x-axis), in degrees. The default value is 0.0.\n",
    "- `ctf_B_factor`: An additional b-factor to apply to the CTF, in Angstroms^2. The default value is 0.0.\n",
    "\n",
    "There are other unused fields in the class that are not detailed here.\n",
    "See the Pydantic model API documentation for more information."
   ]
  },
  {
   "cell_type": "markdown",
   "metadata": {},
   "source": [
    "### Creating an instance of the **OpticsGroup** model\n",
    "\n",
    "Below, we create an instance of the `OpticsGroup` model with some made-up but nevertheless realistic values."
   ]
  },
  {
   "cell_type": "code",
   "execution_count": 2,
   "metadata": {},
   "outputs": [],
   "source": [
    "my_optics_group = OpticsGroup(\n",
    "    label=\"my_optics_group\",\n",
    "    pixel_size=1.06,\n",
    "    voltage=300.0,\n",
    "    spherical_aberration=2.7,  # default value\n",
    "    amplitude_contrast_ratio=0.07,  # default value\n",
    "    phase_shift=0.0,  # default value\n",
    "    defocus_u=5200.0,\n",
    "    defocus_v=4950.0,\n",
    "    defocus_astigmatism_angle=25.0,\n",
    "    ctf_B_factor=60.0,\n",
    ")"
   ]
  },
  {
   "cell_type": "markdown",
   "metadata": {},
   "source": [
    "The Python variable `my_optics_group` is now an instance of the `OpticsGroup` model.\n",
    "Note that the model does do validation under-the-hood to ensure necessary fields are present and valid.\n",
    "Any invalid fields will raise a `ValidationError` when the model is created.\n",
    "Uncomment the following code block to see this in action."
   ]
  },
  {
   "cell_type": "code",
   "execution_count": 10,
   "metadata": {},
   "outputs": [],
   "source": [
    "# bad_optics_group = OpticsGroup(\n",
    "#     label=\"bad_optics_group\",\n",
    "#     pixel_size=-1.0,  # <--- Must be positive\n",
    "#     voltage=300.0,\n",
    "#     phase_shift=0.0,  # default value\n",
    "#     defocus_u=5200.0,\n",
    "#     defocus_v=4950.0,\n",
    "#     defocus_astigmatism_angle=25.0,\n",
    "# )"
   ]
  },
  {
   "cell_type": "markdown",
   "metadata": {},
   "source": [
    "### Serializing an instance of the **OpticsGroup** model\n",
    "\n",
    "Pydantic has built-in functionality, namely the `model_dump()`, for generating a dictionary of key, value pairs from the model attributes and their values.\n",
    "Below, we create a dictionary from the `my_optics_group` instance and print it out.\n",
    "Note that extra, unused fields are still included in the dictionary."
   ]
  },
  {
   "cell_type": "code",
   "execution_count": 4,
   "metadata": {},
   "outputs": [
    {
     "name": "stdout",
     "output_type": "stream",
     "text": [
      "{'amplitude_contrast_ratio': 0.07,\n",
      " 'beam_tilt_x': None,\n",
      " 'beam_tilt_y': None,\n",
      " 'chromatic_aberration': 0.0,\n",
      " 'ctf_B_factor': 60.0,\n",
      " 'defocus_astigmatism_angle': 25.0,\n",
      " 'defocus_u': 5200.0,\n",
      " 'defocus_v': 4950.0,\n",
      " 'even_zernike': None,\n",
      " 'label': 'my_optics_group',\n",
      " 'mtf_reference': None,\n",
      " 'mtf_values': None,\n",
      " 'odd_zernike': None,\n",
      " 'phase_shift': 0.0,\n",
      " 'pixel_size': 1.06,\n",
      " 'spherical_aberration': 2.7,\n",
      " 'voltage': 300.0,\n",
      " 'zernike_moments': None}\n"
     ]
    }
   ],
   "source": [
    "optics_dict = my_optics_group.model_dump()\n",
    "pprint(optics_dict)"
   ]
  },
  {
   "cell_type": "markdown",
   "metadata": {},
   "source": [
    "### Exporting configurations to a YAML file\n",
    "\n",
    "[YAML](https://yaml.org) files are nothing more than a bunch of key-value pairs in a human-readable format.\n",
    "Like [JSON](https://www.json.org), YAML has parser functions/libraries in most programming languages increasing their interoperability.\n",
    "We adopt the `.yaml` format (and `.json` format, but not discussed here) for our configuration files rather than less-common formats specific to a sub-field or program.\n",
    "\n",
    "The `OpticsGroup` model (and all the other Pydanic models discussed here) have a `to_yaml()` method that writes the model to a YAML file.\n",
    "Below, we first specify a path and then call the `to_yaml()` method on the `my_optics_group` instance to write the model to a file."
   ]
  },
  {
   "cell_type": "code",
   "execution_count": 6,
   "metadata": {},
   "outputs": [],
   "source": [
    "yaml_filepath = \"./optics_group_example.yaml\"\n",
    "my_optics_group.to_yaml(yaml_filepath)"
   ]
  },
  {
   "cell_type": "markdown",
   "metadata": {},
   "source": [
    "A new file called `optics_group_example.yaml` should now exist in the current working directory with the following contents:\n",
    "\n",
    "----\n",
    "\n",
    "```yaml\n",
    "amplitude_contrast_ratio: 0.07\n",
    "beam_tilt_x: null\n",
    "beam_tilt_y: null\n",
    "chromatic_aberration: 0.0\n",
    "ctf_B_factor: 60.0\n",
    "defocus_astigmatism_angle: 25.0\n",
    "defocus_u: 5200.0\n",
    "defocus_v: 4950.0\n",
    "even_zernike: null\n",
    "label: my_optics_group\n",
    "mtf_reference: null\n",
    "mtf_values: null\n",
    "odd_zernike: null\n",
    "phase_shift: 0.0\n",
    "pixel_size: 1.06\n",
    "spherical_aberration: 2.7\n",
    "voltage: 300.0\n",
    "zernike_moments: null\n",
    "```\n",
    "\n",
    "----"
   ]
  },
  {
   "cell_type": "markdown",
   "metadata": {},
   "source": [
    "### Importing configurations from a YAML file\n",
    "\n",
    "Each model also has the `from_yaml()` method which can be to instantiate the class from contents in a `.yaml` file.\n",
    "Below, we are creating a new instance of the `OpticsGroup` class from the `optics_group.yaml` file."
   ]
  },
  {
   "cell_type": "code",
   "execution_count": null,
   "metadata": {},
   "outputs": [
    {
     "name": "stdout",
     "output_type": "stream",
     "text": [
      "OpticsGroup objects are equal.\n"
     ]
    }
   ],
   "source": [
    "new_optics_group = OpticsGroup.from_yaml(yaml_filepath)\n",
    "\n",
    "# Check if the two OpticsGroup objects are equal\n",
    "if new_optics_group == my_optics_group:\n",
    "    print(\"OpticsGroup objects are equal.\")\n",
    "else:\n",
    "    print(\"The two OpticsGroup are not equal!!!\")"
   ]
  },
  {
   "cell_type": "markdown",
   "metadata": {},
   "source": [
    "Now that we've covered the basics of creating, serializing, and deserializing the `OpticsGroup` model, we can move onto the next models without covering the (de)serialization and import/export steps in detail."
   ]
  },
  {
   "cell_type": "markdown",
   "metadata": {},
   "source": [
    "## The **OrientationSearchConfig** Model\n",
    "\n",
    "Two-dimensional template matching necessitates covering SO(3) orientation space to find the \"best\" orientation match for a particle.\n",
    "How points are sampled during the search process is handled by the `OrientationSearchConfig` model.\n",
    "\n",
    "This model effectively acts as an interface with the [torch-so3](https://github.com/teamtomo/torch-so3) package, which provides the underlying functionality for generating uniform grids on SO(3).\n",
    "The class has the following attributes:\n",
    "TODO"
   ]
  },
  {
   "cell_type": "markdown",
   "metadata": {},
   "source": [
    "## The **DefocusSearchConfig** Model\n",
    "\n",
    "Two-dimensional template matching is also sensitive to the relative defocus of a particle allowing the estimation of the Z-height in a sample.\n",
    "The `DefocusSearchConfig` model handles which defocus planes are searched over (relative to the defocus parameters defined in the `OpticsGroup` model).\n",
    "The model has the following attributes:\n",
    "TODO"
   ]
  },
  {
   "cell_type": "markdown",
   "metadata": {},
   "source": [
    "The **BandpassFilterConfig** Model\n"
   ]
  },
  {
   "cell_type": "markdown",
   "metadata": {},
   "source": [
    "The **PhaseRandomizationFilterConfig** Model\n"
   ]
  },
  {
   "cell_type": "markdown",
   "metadata": {},
   "source": [
    "The **PreprocessingFilters** Model\n"
   ]
  },
  {
   "cell_type": "markdown",
   "metadata": {},
   "source": [
    "The **WhiteningFilterConfig** Model\n"
   ]
  },
  {
   "cell_type": "markdown",
   "metadata": {},
   "source": [
    "The **MatchTemplateManager** Model\n"
   ]
  },
  {
   "cell_type": "markdown",
   "metadata": {},
   "source": [
    "The **MatchTemplateResult** Model\n"
   ]
  },
  {
   "cell_type": "markdown",
   "metadata": {},
   "source": []
  }
 ],
 "metadata": {
  "kernelspec": {
   "display_name": "tt2DTM-dev",
   "language": "python",
   "name": "python3"
  },
  "language_info": {
   "codemirror_mode": {
    "name": "ipython",
    "version": 3
   },
   "file_extension": ".py",
   "mimetype": "text/x-python",
   "name": "python",
   "nbconvert_exporter": "python",
   "pygments_lexer": "ipython3",
   "version": "3.12.8"
  }
 },
 "nbformat": 4,
 "nbformat_minor": 2
}
